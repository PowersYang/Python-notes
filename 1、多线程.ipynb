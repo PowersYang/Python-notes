{
 "cells": [
  {
   "cell_type": "markdown",
   "metadata": {},
   "source": [
    "# 1、GIL (global interpreter lock) 全局性解释锁\n",
    "\n",
    "python中的一个线程对应于C语言的一个线程\n",
    "GIL使得同一时间只有一个线程在cpu上执行字节码，无法将多个线程映射到多个cpu上执行\n",
    "\n",
    "- GIL会根据执行的字节码行数以及时间片释放GIL锁\n",
    "- GIL遇到IO操作的时候会主动释放"
   ]
  },
  {
   "cell_type": "code",
   "execution_count": null,
   "metadata": {},
   "outputs": [],
   "source": [
    "total = 0\n",
    "\n",
    "def add():\n",
    "    global total\n",
    "    for i in range(1000000):\n",
    "        total += 1\n",
    "\n",
    "def desc():\n",
    "    global total\n",
    "    for i in range(1000000):\n",
    "        total -= 1\n",
    "        \n",
    "import threading\n",
    "thread1 = threading.Thread(target=add)\n",
    "thread2 = threading.Thread(target=desc)\n",
    "thread1.start()\n",
    "thread2.start()\n",
    "\n",
    "thread1.join()\n",
    "thread2.join()\n",
    "\n",
    "print(total)"
   ]
  },
  {
   "cell_type": "markdown",
   "metadata": {},
   "source": [
    "# 2、多线程编程\n",
    "操作系统能够调动的最小单元是线程\n",
    "\n",
    "对于IO操作来说，多进程和多线程的性能差别不大\n",
    "\n",
    "## 2.1 创建多线程的方式"
   ]
  },
  {
   "cell_type": "code",
   "execution_count": 32,
   "metadata": {},
   "outputs": [
    {
     "name": "stdout",
     "output_type": "stream",
     "text": [
      "get detail html started\n",
      "get detail url started\n",
      "get detail html endget detail url end\n",
      "\n",
      "last time: 2.004678249359131\n"
     ]
    }
   ],
   "source": [
    "# 1、通过Thread类实例化\n",
    "\n",
    "import time\n",
    "import threading\n",
    "\n",
    "def get_detail_html(url):\n",
    "    # 爬取文章详情\n",
    "    print('get detail html started')\n",
    "    time.sleep(2)\n",
    "    print('get detail html end')\n",
    "    \n",
    "def get_detail_url(url):\n",
    "    # 爬取文章列表\n",
    "    print('get detail url started')\n",
    "    time.sleep(2)\n",
    "    print('get detail url end')\n",
    "    \n",
    "def main():\n",
    "    t1 = threading.Thread(target=get_detail_html, args=('',))\n",
    "    t2 = threading.Thread(target=get_detail_url, args=('',))\n",
    "    start_time = time.time()\n",
    "    t1.start()\n",
    "    t2.start()\n",
    "    \n",
    "    t1.join()\n",
    "    t2.join()\n",
    "    print('last time: {}'.format(time.time() - start_time))\n",
    "    \n",
    "main()"
   ]
  },
  {
   "cell_type": "code",
   "execution_count": 30,
   "metadata": {},
   "outputs": [
    {
     "name": "stdout",
     "output_type": "stream",
     "text": [
      "get detail html started\n",
      "get detail url started\n",
      "get detail html end\n",
      "get detail url end\n",
      "last time: 4.004954814910889\n"
     ]
    }
   ],
   "source": [
    "# 2、通过集成Thread来实现多线程\n",
    "\n",
    "class GetDetailHtml(threading.Thread):\n",
    "    def __init__(self, name):\n",
    "        super().__init__(name=name)\n",
    "        \n",
    "    # 重载的应该是run()方法\n",
    "    def run(self):\n",
    "        print('get detail html started')\n",
    "        time.sleep(2)\n",
    "        print('get detail html end')\n",
    "\n",
    "class GetDetailUrl(threading.Thread):\n",
    "    def __init__(self, name):\n",
    "        super().__init__(name=name)\n",
    "    \n",
    "    # 重载的应该是run()方法\n",
    "    def run(self):\n",
    "        print('get detail url started')\n",
    "        time.sleep(4)\n",
    "        print('get detail url end')\n",
    "\n",
    "def main():\n",
    "    t1 = GetDetailHtml('get_detal_html')\n",
    "    t2 = GetDetailUrl('get_detail_url')\n",
    "    start_time = time.time()\n",
    "    t1.start()\n",
    "    t2.start()\n",
    "    \n",
    "    t1.join()\n",
    "    t2.join()\n",
    "    print('last time: {}'.format(time.time() - start_time))\n",
    "\n",
    "main()"
   ]
  },
  {
   "cell_type": "markdown",
   "metadata": {},
   "source": [
    "## 2.2 线程间的通信"
   ]
  },
  {
   "cell_type": "code",
   "execution_count": 41,
   "metadata": {},
   "outputs": [
    {
     "name": "stdout",
     "output_type": "stream",
     "text": [
      "get detail url end\n",
      "get detail url started\n",
      "get detail url started\n",
      "get detail url end\n",
      "get detail url started\n",
      "get detail url end\n",
      "get detail url end\n",
      "get detail url started\n",
      "get detail url started\n",
      "get detail html: detail_url_19\n",
      "get detail html: detail_url_18\n",
      "get detail url end\n",
      "get detail url started\n",
      "get detail html: detail_url_17get detail html: detail_url_16\n",
      "\n",
      "get detail url endget detail url end\n",
      "get detail url started\n",
      "\n",
      "get detail html: detail_url_19get detail url started\n",
      "\n",
      "get detail html: detail_url_18\n",
      "get detail url end\n",
      "get detail url started\n",
      "get detail html: detail_url_17get detail html: detail_url_16\n",
      "\n",
      "get detail url endget detail url end\n",
      "\n",
      "get detail url started\n",
      "get detail url started\n",
      "get detail html: detail_url_19get detail url endget detail html: detail_url_18\n",
      "\n",
      "get detail url started\n",
      "\n"
     ]
    },
    {
     "ename": "KeyboardInterrupt",
     "evalue": "",
     "output_type": "error",
     "traceback": [
      "\u001b[0;31m---------------------------------------------------------------------------\u001b[0m",
      "\u001b[0;31mKeyboardInterrupt\u001b[0m                         Traceback (most recent call last)",
      "\u001b[0;32m<ipython-input-41-5826fdee16fc>\u001b[0m in \u001b[0;36m<module>\u001b[0;34m()\u001b[0m\n\u001b[1;32m     41\u001b[0m     \u001b[0mprint\u001b[0m\u001b[0;34m(\u001b[0m\u001b[0;34m'last time: {}'\u001b[0m\u001b[0;34m.\u001b[0m\u001b[0mformat\u001b[0m\u001b[0;34m(\u001b[0m\u001b[0mtime\u001b[0m\u001b[0;34m.\u001b[0m\u001b[0mtime\u001b[0m\u001b[0;34m(\u001b[0m\u001b[0;34m)\u001b[0m \u001b[0;34m-\u001b[0m \u001b[0mstart_time\u001b[0m\u001b[0;34m)\u001b[0m\u001b[0;34m)\u001b[0m\u001b[0;34m\u001b[0m\u001b[0m\n\u001b[1;32m     42\u001b[0m \u001b[0;34m\u001b[0m\u001b[0m\n\u001b[0;32m---> 43\u001b[0;31m \u001b[0mmain\u001b[0m\u001b[0;34m(\u001b[0m\u001b[0;34m)\u001b[0m\u001b[0;34m\u001b[0m\u001b[0m\n\u001b[0m",
      "\u001b[0;32m<ipython-input-41-5826fdee16fc>\u001b[0m in \u001b[0;36mmain\u001b[0;34m()\u001b[0m\n\u001b[1;32m     33\u001b[0m \u001b[0;34m\u001b[0m\u001b[0m\n\u001b[1;32m     34\u001b[0m     \u001b[0mthread_detail_url\u001b[0m\u001b[0;34m.\u001b[0m\u001b[0mstart\u001b[0m\u001b[0;34m(\u001b[0m\u001b[0;34m)\u001b[0m\u001b[0;34m\u001b[0m\u001b[0m\n\u001b[0;32m---> 35\u001b[0;31m     \u001b[0mthread_detail_url\u001b[0m\u001b[0;34m.\u001b[0m\u001b[0mjoin\u001b[0m\u001b[0;34m(\u001b[0m\u001b[0;34m)\u001b[0m\u001b[0;34m\u001b[0m\u001b[0m\n\u001b[0m\u001b[1;32m     36\u001b[0m \u001b[0;34m\u001b[0m\u001b[0m\n\u001b[1;32m     37\u001b[0m     \u001b[0;32mfor\u001b[0m \u001b[0mt\u001b[0m \u001b[0;32min\u001b[0m \u001b[0mhtml_threads\u001b[0m\u001b[0;34m:\u001b[0m\u001b[0;34m\u001b[0m\u001b[0m\n",
      "\u001b[0;32m/anaconda3/lib/python3.7/threading.py\u001b[0m in \u001b[0;36mjoin\u001b[0;34m(self, timeout)\u001b[0m\n\u001b[1;32m   1030\u001b[0m \u001b[0;34m\u001b[0m\u001b[0m\n\u001b[1;32m   1031\u001b[0m         \u001b[0;32mif\u001b[0m \u001b[0mtimeout\u001b[0m \u001b[0;32mis\u001b[0m \u001b[0;32mNone\u001b[0m\u001b[0;34m:\u001b[0m\u001b[0;34m\u001b[0m\u001b[0m\n\u001b[0;32m-> 1032\u001b[0;31m             \u001b[0mself\u001b[0m\u001b[0;34m.\u001b[0m\u001b[0m_wait_for_tstate_lock\u001b[0m\u001b[0;34m(\u001b[0m\u001b[0;34m)\u001b[0m\u001b[0;34m\u001b[0m\u001b[0m\n\u001b[0m\u001b[1;32m   1033\u001b[0m         \u001b[0;32melse\u001b[0m\u001b[0;34m:\u001b[0m\u001b[0;34m\u001b[0m\u001b[0m\n\u001b[1;32m   1034\u001b[0m             \u001b[0;31m# the behavior of a negative timeout isn't documented, but\u001b[0m\u001b[0;34m\u001b[0m\u001b[0;34m\u001b[0m\u001b[0m\n",
      "\u001b[0;32m/anaconda3/lib/python3.7/threading.py\u001b[0m in \u001b[0;36m_wait_for_tstate_lock\u001b[0;34m(self, block, timeout)\u001b[0m\n\u001b[1;32m   1046\u001b[0m         \u001b[0;32mif\u001b[0m \u001b[0mlock\u001b[0m \u001b[0;32mis\u001b[0m \u001b[0;32mNone\u001b[0m\u001b[0;34m:\u001b[0m  \u001b[0;31m# already determined that the C code is done\u001b[0m\u001b[0;34m\u001b[0m\u001b[0m\n\u001b[1;32m   1047\u001b[0m             \u001b[0;32massert\u001b[0m \u001b[0mself\u001b[0m\u001b[0;34m.\u001b[0m\u001b[0m_is_stopped\u001b[0m\u001b[0;34m\u001b[0m\u001b[0m\n\u001b[0;32m-> 1048\u001b[0;31m         \u001b[0;32melif\u001b[0m \u001b[0mlock\u001b[0m\u001b[0;34m.\u001b[0m\u001b[0macquire\u001b[0m\u001b[0;34m(\u001b[0m\u001b[0mblock\u001b[0m\u001b[0;34m,\u001b[0m \u001b[0mtimeout\u001b[0m\u001b[0;34m)\u001b[0m\u001b[0;34m:\u001b[0m\u001b[0;34m\u001b[0m\u001b[0m\n\u001b[0m\u001b[1;32m   1049\u001b[0m             \u001b[0mlock\u001b[0m\u001b[0;34m.\u001b[0m\u001b[0mrelease\u001b[0m\u001b[0;34m(\u001b[0m\u001b[0;34m)\u001b[0m\u001b[0;34m\u001b[0m\u001b[0m\n\u001b[1;32m   1050\u001b[0m             \u001b[0mself\u001b[0m\u001b[0;34m.\u001b[0m\u001b[0m_stop\u001b[0m\u001b[0;34m(\u001b[0m\u001b[0;34m)\u001b[0m\u001b[0;34m\u001b[0m\u001b[0m\n",
      "\u001b[0;31mKeyboardInterrupt\u001b[0m: "
     ]
    },
    {
     "name": "stdout",
     "output_type": "stream",
     "text": [
      "get detail html: detail_url_17\n",
      "get detail html: detail_url_16\n",
      "get detail url end\n",
      "get detail url started\n",
      "get detail url end\n",
      "get detail url started\n",
      "get detail url endget detail html: detail_url_19\n",
      "get detail html: detail_url_18\n",
      "\n",
      "get detail url started\n",
      "get detail html: detail_url_17\n",
      "get detail html: detail_url_16\n",
      "get detail url end\n",
      "get detail url started\n",
      "get detail url end\n",
      "get detail url started\n",
      "get detail url end\n",
      "get detail url started\n",
      "get detail html: detail_url_19get detail html: detail_url_18\n",
      "\n",
      "get detail html: detail_url_17\n",
      "get detail html: detail_url_16\n",
      "get detail url end\n",
      "get detail url started\n",
      "get detail url end"
     ]
    }
   ],
   "source": [
    "# 1、共享变量\n",
    "import time\n",
    "import threading\n",
    "\n",
    "detail_url_list = []\n",
    "\n",
    "def get_detail_html(detail_url_list):\n",
    "    while True:\n",
    "        if detail_url_list:\n",
    "            url = detail_url_list.pop()\n",
    "            # 爬取文章详情\n",
    "            print('get detail html: {}'.format(url))\n",
    "            time.sleep(2)\n",
    "\n",
    "def get_detail_url(detail_url_list):\n",
    "    while True:\n",
    "        # 爬取文章列表\n",
    "        print('get detail url started')\n",
    "        time.sleep(4)\n",
    "        for i in range(20):\n",
    "            detail_url_list.append('detail_url_{}'.format(i))\n",
    "        print('get detail url end')\n",
    "    \n",
    "def main():\n",
    "    thread_detail_url = threading.Thread(target=get_detail_url, args=(detail_url_list,))\n",
    "    html_threads = []\n",
    "    \n",
    "    for i in range(2):\n",
    "        html_thread = threading.Thread(target=get_detail_html, args=(detail_url_list,))\n",
    "        html_thread.start()\n",
    "        html_threads.append(html_thread)\n",
    "        \n",
    "    \n",
    "    thread_detail_url.start()\n",
    "    thread_detail_url.join()\n",
    "    \n",
    "    for t in html_threads:\n",
    "        t.join()\n",
    "    \n",
    "    start_time = time.time()\n",
    "    print('last time: {}'.format(time.time() - start_time))\n",
    "    \n",
    "main()"
   ]
  },
  {
   "cell_type": "code",
   "execution_count": null,
   "metadata": {},
   "outputs": [],
   "source": []
  },
  {
   "cell_type": "code",
   "execution_count": null,
   "metadata": {},
   "outputs": [],
   "source": []
  },
  {
   "cell_type": "code",
   "execution_count": null,
   "metadata": {},
   "outputs": [],
   "source": []
  },
  {
   "cell_type": "code",
   "execution_count": null,
   "metadata": {},
   "outputs": [],
   "source": []
  },
  {
   "cell_type": "code",
   "execution_count": null,
   "metadata": {},
   "outputs": [],
   "source": []
  },
  {
   "cell_type": "code",
   "execution_count": null,
   "metadata": {},
   "outputs": [],
   "source": []
  },
  {
   "cell_type": "code",
   "execution_count": null,
   "metadata": {},
   "outputs": [],
   "source": []
  }
 ],
 "metadata": {
  "kernelspec": {
   "display_name": "Python 3",
   "language": "python",
   "name": "python3"
  },
  "language_info": {
   "codemirror_mode": {
    "name": "ipython",
    "version": 3
   },
   "file_extension": ".py",
   "mimetype": "text/x-python",
   "name": "python",
   "nbconvert_exporter": "python",
   "pygments_lexer": "ipython3",
   "version": "3.7.0"
  }
 },
 "nbformat": 4,
 "nbformat_minor": 2
}
