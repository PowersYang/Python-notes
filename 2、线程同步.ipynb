{
 "cells": [
  {
   "cell_type": "markdown",
   "metadata": {},
   "source": [
    "解决线程同步可以通过以下方式：\n",
    "- 线程锁Lock和Rlock\n",
    "- 条件变量condition\n",
    "- 信号量Semaphore"
   ]
  },
  {
   "cell_type": "markdown",
   "metadata": {},
   "source": [
    "# 1、线程锁—Lock和RLock"
   ]
  },
  {
   "cell_type": "code",
   "execution_count": 21,
   "metadata": {},
   "outputs": [
    {
     "name": "stdout",
     "output_type": "stream",
     "text": [
      "390913\n"
     ]
    }
   ],
   "source": [
    "total = 0\n",
    "\n",
    "def add():\n",
    "    global total\n",
    "    for i in range(1000000):\n",
    "        total += 1\n",
    "\n",
    "def desc():\n",
    "    global total\n",
    "    for i in range(1000000):\n",
    "        total -= 1\n",
    "        \n",
    "import threading\n",
    "thread1 = threading.Thread(target=add)\n",
    "thread2 = threading.Thread(target=desc)\n",
    "thread1.start()\n",
    "thread2.start()\n",
    "\n",
    "thread1.join()\n",
    "thread2.join()\n",
    "\n",
    "print(total)"
   ]
  },
  {
   "cell_type": "markdown",
   "metadata": {},
   "source": [
    "- 上面的程序为什么每次输出的值不一样？而且不是0？\n",
    "\n",
    "> Python代码执行的时候是转化成字节码执行的，一个函数回转化成多行字节码。多个线程在切换的时候是根据字节码的行数或者时间片切换的，这就导致一个函数的还没有执行完，线程就会切换到另一个的字节码去执行，同时另一个函数的字节码也没执行完，就又会切换。所以会导致变量赋值的时候出错。\n",
    "\n",
    "## 如何解决？"
   ]
  },
  {
   "cell_type": "code",
   "execution_count": 5,
   "metadata": {},
   "outputs": [
    {
     "name": "stdout",
     "output_type": "stream",
     "text": [
      "0\n"
     ]
    }
   ],
   "source": [
    "# 通过锁来解决线程同步的问题\n",
    "from threading import Lock\n",
    "\n",
    "total = 0\n",
    "lock = Lock()  # 共用一把锁\n",
    "def add():\n",
    "    global total\n",
    "    global lock\n",
    "    for i in range(1000000):\n",
    "        lock.acquire() # 获得锁\n",
    "        total += 1\n",
    "        lock.release() # 释放锁\n",
    "\n",
    "def desc():\n",
    "    global total\n",
    "    global lock\n",
    "    for i in range(1000000):\n",
    "        lock.acquire()\n",
    "        total -= 1\n",
    "        lock.release()\n",
    "        \n",
    "import threading\n",
    "thread1 = threading.Thread(target=add)\n",
    "thread2 = threading.Thread(target=desc)\n",
    "thread1.start()\n",
    "thread2.start()\n",
    "\n",
    "thread1.join()\n",
    "thread2.join()\n",
    "\n",
    "print(total)"
   ]
  },
  {
   "cell_type": "markdown",
   "metadata": {},
   "source": [
    "锁一定程度上可以解线程同步的问题，但是也有缺点：\n",
    "\n",
    "- 获取锁和释放锁的过程是需要等待的，这个过程比较耗时。\n",
    "\n",
    "- 有可能造成死锁。\n",
    "    如果连续两次调用lock.acquire()会造成死锁。\n",
    "    如：\n",
    "    ```Python\n",
    "    def A():\n",
    "        lock.acquire()\n",
    "        B()\n",
    "        # do something\n",
    "        lock.release()\n",
    "\n",
    "    def B():\n",
    "        lock.acquire()\n",
    "        # do something\n",
    "        lock.release()\n",
    "    ```\n",
    "\n",
    "为了解决上面的问题，Python还提供了另一个锁RLock(可重入的锁)，在**同一个线程**里面可以连续调用多次acquire()，但是要注意，acquire()的次数要和release()的次数相等。"
   ]
  },
  {
   "cell_type": "markdown",
   "metadata": {},
   "source": [
    "# 2、条件变量Condition\n",
    "用于复杂的线程间同步"
   ]
  },
  {
   "cell_type": "code",
   "execution_count": 20,
   "metadata": {},
   "outputs": [
    {
     "name": "stdout",
     "output_type": "stream",
     "text": [
      "天猫精灵: 小爱同学\n",
      "小爱: 在\n",
      "天猫精灵: 我们来对古诗吧\n",
      "小爱: 好啊\n",
      "天猫精灵: 我住长江头\n",
      "小爱: 君住长江尾\n",
      "天猫精灵: 日日思君不见君\n",
      "小爱: 共饮长江水\n",
      "天猫精灵: 此水几时休\n",
      "小爱: 此恨何时已\n",
      "天猫精灵: 只愿君心似我心\n",
      "小爱: 定不负相思意\n"
     ]
    }
   ],
   "source": [
    "# 实现小爱同学和天猫精灵对话，一人一句\n",
    "\n",
    "from threading import Thread, Condition\n",
    "\n",
    "class XiaoAi(Thread):\n",
    "    def __init__(self, cond):\n",
    "        super().__init__(name='小爱')\n",
    "        self.cond = cond\n",
    "        \n",
    "    def run(self):\n",
    "        with self.cond:\n",
    "            self.cond.wait()  # 最开始是天猫精灵先说话的，所以此时小爱需要等待\n",
    "            \n",
    "            print('{}: 在'.format(self.name))\n",
    "            self.cond.notify() # 小爱说完后通知天猫精灵说话\n",
    "            self.cond.wait() # 自己等待\n",
    "            \n",
    "            print('{}: 好啊'.format(self.name))\n",
    "            self.cond.notify()\n",
    "            self.cond.wait()\n",
    "            \n",
    "            print('{}: 君住长江尾'.format(self.name))\n",
    "            self.cond.notify()\n",
    "            self.cond.wait()\n",
    "            \n",
    "            print('{}: 共饮长江水'.format(self.name))\n",
    "            self.cond.notify()\n",
    "            self.cond.wait()\n",
    "\n",
    "            print('{}: 此恨何时已'.format(self.name))\n",
    "            self.cond.notify()\n",
    "            self.cond.wait()\n",
    "            \n",
    "            print('{}: 定不负相思意'.format(self.name))\n",
    "            self.cond.notify()\n",
    "            self.cond.wait()\n",
    "\n",
    "\n",
    "class TianMao(Thread):\n",
    "    def __init__(self, cond):\n",
    "        super().__init__(name='天猫精灵')\n",
    "        self.cond = cond\n",
    "        \n",
    "    def run(self):\n",
    "        with self.cond:\n",
    "            print('{}: 小爱同学'.format(self.name))\n",
    "            self.cond.notify() # 通知小爱说话\n",
    "            self.cond.wait() # 自己开始等待\n",
    "            \n",
    "            print('{}: 我们来对古诗吧'.format(self.name))\n",
    "            self.cond.notify()\n",
    "            self.cond.wait()\n",
    "\n",
    "            print('{}: 我住长江头'.format(self.name))\n",
    "            self.cond.notify()\n",
    "            self.cond.wait()\n",
    "            \n",
    "            print('{}: 日日思君不见君'.format(self.name))\n",
    "            self.cond.notify()\n",
    "            self.cond.wait()\n",
    "            \n",
    "            print('{}: 此水几时休'.format(self.name))\n",
    "            self.cond.notify()\n",
    "            self.cond.wait()\n",
    "            \n",
    "            print('{}: 只愿君心似我心'.format(self.name))\n",
    "            self.cond.notify()\n",
    "            self.cond.wait()\n",
    "\n",
    "\n",
    "cond = Condition()\n",
    "xiaoai = XiaoAi(cond)\n",
    "tianmao = TianMao(cond)\n",
    "\n",
    "# 调用Condition的时候启动顺序很重要\n",
    "# 如果天猫先启动的话，他第一次通知小爱的时候（notify），小爱还没有启动，根本就接收不到天猫的通知\n",
    "# 而此时天猫精灵已经进入了等到（wait），但是wait()方法只能通过notify()来唤醒，也就是说只能让小爱通过notify()来唤醒天猫\n",
    "# 但此时小爱没启动啊，所以就陷入了僵局\n",
    "\n",
    "xiaoai.start()\n",
    "tianmao.start()"
   ]
  },
  {
   "cell_type": "markdown",
   "metadata": {},
   "source": [
    "# 3、Semaphore\n",
    "用于控制进入数量的锁\n",
    "\n",
    "场景：爬虫的时候可以控制请求的并发量"
   ]
  },
  {
   "cell_type": "code",
   "execution_count": 28,
   "metadata": {},
   "outputs": [
    {
     "name": "stdout",
     "output_type": "stream",
     "text": [
      "got html text successgot html text successgot html text success\n",
      "\n",
      "\n",
      "got html text successgot html text success\n",
      "\n",
      "got html text success\n",
      "got html text successgot html text successgot html text success\n",
      "\n",
      "\n",
      "got html text successgot html text success\n",
      "got html text success\n",
      "\n",
      "got html text successgot html text successgot html text success\n",
      "\n",
      "\n",
      "got html text successgot html text success\n",
      "\n",
      "got html text success\n",
      "got html text successgot html text success\n",
      "\n"
     ]
    }
   ],
   "source": [
    "import threading\n",
    "import time\n",
    "\n",
    "class HtmlSpider(threading.Thread):\n",
    "    def __init__(self, url, sem):\n",
    "        super().__init__()\n",
    "        self.url = url\n",
    "        self.sem = sem\n",
    "    \n",
    "    def run(self):\n",
    "        time.sleep(2)\n",
    "        print('got html text success')\n",
    "        self.sem.release() # 没调用一次release()，num就会加一\n",
    "        \n",
    "class UrlProducer(threading.Thread):\n",
    "    def __init__(self, sem):\n",
    "        super().__init__()\n",
    "        self.sem = sem\n",
    "    \n",
    "    def run(self):\n",
    "        for i in range(20):\n",
    "            self.sem.acquire() # 每调用一次acquire()，num就会减一\n",
    "            html_thread = HtmlSpider('https://baidu.com/{}'.format(i), sem)\n",
    "            html_thread.start()\n",
    "            \n",
    "            \n",
    "# 每次只允许3个并发            \n",
    "num = 3\n",
    "sem = threading.Semaphore(num)            \n",
    "url_producer = UrlProducer(sem)\n",
    "url_producer.start()"
   ]
  },
  {
   "cell_type": "code",
   "execution_count": null,
   "metadata": {},
   "outputs": [],
   "source": []
  },
  {
   "cell_type": "code",
   "execution_count": null,
   "metadata": {},
   "outputs": [],
   "source": []
  },
  {
   "cell_type": "code",
   "execution_count": null,
   "metadata": {},
   "outputs": [],
   "source": []
  },
  {
   "cell_type": "code",
   "execution_count": null,
   "metadata": {},
   "outputs": [],
   "source": []
  },
  {
   "cell_type": "code",
   "execution_count": null,
   "metadata": {},
   "outputs": [],
   "source": []
  },
  {
   "cell_type": "code",
   "execution_count": null,
   "metadata": {},
   "outputs": [],
   "source": []
  },
  {
   "cell_type": "code",
   "execution_count": null,
   "metadata": {},
   "outputs": [],
   "source": []
  },
  {
   "cell_type": "code",
   "execution_count": null,
   "metadata": {},
   "outputs": [],
   "source": []
  }
 ],
 "metadata": {
  "kernelspec": {
   "display_name": "Python 3",
   "language": "python",
   "name": "python3"
  },
  "language_info": {
   "codemirror_mode": {
    "name": "ipython",
    "version": 3
   },
   "file_extension": ".py",
   "mimetype": "text/x-python",
   "name": "python",
   "nbconvert_exporter": "python",
   "pygments_lexer": "ipython3",
   "version": "3.7.0"
  }
 },
 "nbformat": 4,
 "nbformat_minor": 2
}
