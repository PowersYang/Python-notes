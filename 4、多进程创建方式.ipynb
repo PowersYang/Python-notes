{
 "cells": [
  {
   "cell_type": "markdown",
   "metadata": {},
   "source": [
    "# 1、多进程的创建方式\n",
    "\n",
    "1、from concurrent.futures import ProcessPollExecutor\n",
    "   - 和多线程的创建以及使用方式相同\n",
    "\n",
    "2、from multiprocessing Process\n",
    "    \n",
    "3、通过继承Process创建多进程类\n",
    "\n",
    "4、multiprocessing.Pool()"
   ]
  },
  {
   "cell_type": "code",
   "execution_count": 3,
   "metadata": {},
   "outputs": [
    {
     "name": "stdout",
     "output_type": "stream",
     "text": [
      "sub progess success\n",
      "57068\n",
      "main progress end\n"
     ]
    }
   ],
   "source": [
    "# 2、\n",
    "import time\n",
    "from multiprocessing import Process\n",
    "\n",
    "def get_html(n):\n",
    "    time.sleep(n)\n",
    "    print('sub progess success')\n",
    "    return n\n",
    "\n",
    "def main():\n",
    "    process = Process(target=get_html, args=(2,))\n",
    "    process.start()\n",
    "    process.join()\n",
    "    \n",
    "    print(process.pid)\n",
    "    print('main progress end')\n",
    "    \n",
    "main()"
   ]
  },
  {
   "cell_type": "code",
   "execution_count": 10,
   "metadata": {},
   "outputs": [
    {
     "name": "stdout",
     "output_type": "stream",
     "text": [
      "sub progess success\n",
      "3\n"
     ]
    }
   ],
   "source": [
    "# 4、\n",
    "from multiprocessing import Pool\n",
    "\n",
    "# 如果在创建进程池的时候不指定进程数量，系统会据CPU的数量自动创建相同数量的进程\n",
    "# 如：四核的机器就会默认创建四个进程\n",
    "pool = Pool()\n",
    "result = pool.apply_async(get_html, args=(3,))\n",
    "\n",
    "pool.close()\n",
    "pool.join()\n",
    "\n",
    "print(result.get())"
   ]
  },
  {
   "cell_type": "code",
   "execution_count": null,
   "metadata": {},
   "outputs": [],
   "source": []
  }
 ],
 "metadata": {
  "kernelspec": {
   "display_name": "Python 3",
   "language": "python",
   "name": "python3"
  },
  "language_info": {
   "codemirror_mode": {
    "name": "ipython",
    "version": 3
   },
   "file_extension": ".py",
   "mimetype": "text/x-python",
   "name": "python",
   "nbconvert_exporter": "python",
   "pygments_lexer": "ipython3",
   "version": "3.7.0"
  }
 },
 "nbformat": 4,
 "nbformat_minor": 2
}
