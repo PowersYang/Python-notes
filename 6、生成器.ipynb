{
 "cells": [
  {
   "cell_type": "markdown",
   "metadata": {},
   "source": [
    "**几个概念：**\n",
    "\n",
    ">    并发：一个时间段内，有几个程序在同一个CPU上运行，但是任意时刻只有一个程序在CPU上运行。\n",
    ">\n",
    ">    并行：在任意时刻点上，有多个程序同时运行在多个CPU上。并行的数量和CPU的数量是一致的。\n",
    ">\n",
    ">    同步：代码调用IO操作时，必须等待IO操作完成才返回的调用方式。\n",
    ">\n",
    ">    异步：代码调用IO操作时，不必等IO操作完成就返回的调用方式。\n",
    ">\n",
    ">    阻塞：是指调用函数的额时候当前线程被挂起。\n",
    ">\n",
    ">    非阻塞：是指调用函数的时候当前线程不会被挂起，而是立即返回。\n",
    "    \n",
    "**什么是协程？**\n",
    "> 协程就是可以暂停的函数，或者说有多个入口的函数。可以向暂停的地方传入值的函数。"
   ]
  },
  {
   "cell_type": "markdown",
   "metadata": {},
   "source": [
    "## 1、生成器基础\n",
    "\n",
    "### 不仅可以产出值，还可以接收值"
   ]
  },
  {
   "cell_type": "code",
   "execution_count": 7,
   "metadata": {},
   "outputs": [],
   "source": [
    "def gen_func():\n",
    "    # 这行代码的作用\n",
    "    # 1、可以产出值 2、可以接收调用方传递进来的值\n",
    "    html = yield 'http://www.baidu.com'\n",
    "    print('这是传递进来的值： ' + html)\n",
    "    yield 2\n",
    "    yield 3\n",
    "    return 'ysir'"
   ]
  },
  {
   "cell_type": "code",
   "execution_count": 12,
   "metadata": {},
   "outputs": [
    {
     "name": "stdout",
     "output_type": "stream",
     "text": [
      "这是生成器产出的值： http://www.baidu.com\n",
      "这是传递进来的值： ysir\n",
      "2\n",
      "3\n"
     ]
    }
   ],
   "source": [
    "1、生成器的next()方法和send()方法\n",
    "gen = gen_func()\n",
    "# 启动生成器的方式有两种，next()和send()\n",
    "# url = next(gen)\n",
    "url = gen.send(None) # 在调用send发送非none值之前，我们必须调用一次生成器。两种方式：1、gen.send(None) 2、next(gen)\n",
    "print('这是生成器产出的值： ' + url)\n",
    "html = 'ysir'\n",
    "print(gen.send(html)) # send方法可以传递值到生成器内部，同时还可以重启生成器执行至下一个yield，相当于传递完值之后执行了next()\n",
    "print(gen.send(None))"
   ]
  },
  {
   "cell_type": "code",
   "execution_count": 14,
   "metadata": {},
   "outputs": [],
   "source": [
    "# 2、生成器的close()方法\n",
    "gen = gen_func()\n",
    "next(gen)\n",
    "gen.close()"
   ]
  },
  {
   "cell_type": "code",
   "execution_count": 17,
   "metadata": {
    "scrolled": true
   },
   "outputs": [
    {
     "name": "stdout",
     "output_type": "stream",
     "text": [
      "http://www.baidu.com\n"
     ]
    },
    {
     "ename": "Exception",
     "evalue": "download error",
     "output_type": "error",
     "traceback": [
      "\u001b[0;31m---------------------------------------------------------------------------\u001b[0m",
      "\u001b[0;31mException\u001b[0m                                 Traceback (most recent call last)",
      "\u001b[0;32m<ipython-input-17-64f4d18fa37e>\u001b[0m in \u001b[0;36m<module>\u001b[0;34m()\u001b[0m\n\u001b[1;32m      2\u001b[0m \u001b[0mgen\u001b[0m \u001b[0;34m=\u001b[0m \u001b[0mgen_func\u001b[0m\u001b[0;34m(\u001b[0m\u001b[0;34m)\u001b[0m\u001b[0;34m\u001b[0m\u001b[0m\n\u001b[1;32m      3\u001b[0m \u001b[0mprint\u001b[0m\u001b[0;34m(\u001b[0m\u001b[0mnext\u001b[0m\u001b[0;34m(\u001b[0m\u001b[0mgen\u001b[0m\u001b[0;34m)\u001b[0m\u001b[0;34m)\u001b[0m\u001b[0;34m\u001b[0m\u001b[0m\n\u001b[0;32m----> 4\u001b[0;31m \u001b[0mgen\u001b[0m\u001b[0;34m.\u001b[0m\u001b[0mthrow\u001b[0m\u001b[0;34m(\u001b[0m\u001b[0mException\u001b[0m\u001b[0;34m,\u001b[0m \u001b[0;34m'download error'\u001b[0m\u001b[0;34m)\u001b[0m\u001b[0;34m\u001b[0m\u001b[0m\n\u001b[0m\u001b[1;32m      5\u001b[0m \u001b[0mprint\u001b[0m\u001b[0;34m(\u001b[0m\u001b[0mnext\u001b[0m\u001b[0;34m(\u001b[0m\u001b[0mgen\u001b[0m\u001b[0;34m)\u001b[0m\u001b[0;34m)\u001b[0m\u001b[0;34m\u001b[0m\u001b[0m\n",
      "\u001b[0;32m<ipython-input-7-ec0a0270dd70>\u001b[0m in \u001b[0;36mgen_func\u001b[0;34m()\u001b[0m\n\u001b[1;32m      2\u001b[0m     \u001b[0;31m# 这行代码的作用\u001b[0m\u001b[0;34m\u001b[0m\u001b[0;34m\u001b[0m\u001b[0m\n\u001b[1;32m      3\u001b[0m     \u001b[0;31m# 1、可以产出值 2、可以接收调用方传递进来的值\u001b[0m\u001b[0;34m\u001b[0m\u001b[0;34m\u001b[0m\u001b[0m\n\u001b[0;32m----> 4\u001b[0;31m     \u001b[0mhtml\u001b[0m \u001b[0;34m=\u001b[0m \u001b[0;32myield\u001b[0m \u001b[0;34m'http://www.baidu.com'\u001b[0m\u001b[0;34m\u001b[0m\u001b[0m\n\u001b[0m\u001b[1;32m      5\u001b[0m     \u001b[0mprint\u001b[0m\u001b[0;34m(\u001b[0m\u001b[0;34m'这是传递进来的值： '\u001b[0m \u001b[0;34m+\u001b[0m \u001b[0mhtml\u001b[0m\u001b[0;34m)\u001b[0m\u001b[0;34m\u001b[0m\u001b[0m\n\u001b[1;32m      6\u001b[0m     \u001b[0;32myield\u001b[0m \u001b[0;36m2\u001b[0m\u001b[0;34m\u001b[0m\u001b[0m\n",
      "\u001b[0;31mException\u001b[0m: download error"
     ]
    }
   ],
   "source": [
    "# 3、生成器的throw()方法\n",
    "gen = gen_func()\n",
    "print(next(gen))\n",
    "# throw()的第一个异常，对应的是第一个yield语句，可以在第一个yield中捕获了该异常\n",
    "gen.throw(Exception, 'download error')\n",
    "print(next(gen))"
   ]
  },
  {
   "cell_type": "markdown",
   "metadata": {},
   "source": [
    "## 2、生成器yield from\n",
    "python 3.3版本新加的语法\n",
    "\n",
    "### 2.1 简单示例"
   ]
  },
  {
   "cell_type": "code",
   "execution_count": 24,
   "metadata": {},
   "outputs": [
    {
     "name": "stdout",
     "output_type": "stream",
     "text": [
      "1\n",
      "2\n",
      "3\n",
      "ysir 1\n",
      "ysir 2\n",
      "ysir 3\n",
      "5\n",
      "6\n",
      "7\n",
      "8\n",
      "9\n"
     ]
    }
   ],
   "source": [
    "from itertools import chain\n",
    "\n",
    "# chain可以将可迭代对象连接起来做for循环\n",
    "my_list = [1,2,3]\n",
    "my_dict = {'ysir 1': 'url 1', 'ysir 2': 'url 2', 'ysir 3': 'url 3'}\n",
    "\n",
    "for value in chain(my_list, my_dict, range(5, 10)):\n",
    "    print(value)"
   ]
  },
  {
   "cell_type": "code",
   "execution_count": 23,
   "metadata": {},
   "outputs": [
    {
     "name": "stdout",
     "output_type": "stream",
     "text": [
      "1\n",
      "2\n",
      "3\n",
      "['a', 'b']\n",
      "5\n",
      "6\n",
      "7\n",
      "8\n",
      "9\n"
     ]
    }
   ],
   "source": [
    "# 自己模拟实现上面的chain()\n",
    "def mychain(*args):\n",
    "    for my_iterable in args:\n",
    "        yield from my_iterable\n",
    "        \n",
    "for value in mychain([1,2,3,['a','b']], range(5,10)):\n",
    "    print(value)"
   ]
  },
  {
   "cell_type": "markdown",
   "metadata": {},
   "source": [
    "### 2.2 yield from进阶\n",
    "\n",
    "yield会在调用方（main函数）与子生成器（gen）之间通过委托生成器（g1）建立一个**双向**通道"
   ]
  },
  {
   "cell_type": "code",
   "execution_count": 25,
   "metadata": {},
   "outputs": [],
   "source": [
    "def g1(gen):\n",
    "    yield from gen\n",
    "    \n",
    "def main():\n",
    "    g = g1()\n",
    "    g.send(None)\n",
    "\n"
   ]
  },
  {
   "cell_type": "code",
   "execution_count": null,
   "metadata": {},
   "outputs": [],
   "source": []
  },
  {
   "cell_type": "code",
   "execution_count": null,
   "metadata": {},
   "outputs": [],
   "source": []
  }
 ],
 "metadata": {
  "kernelspec": {
   "display_name": "Python 3",
   "language": "python",
   "name": "python3"
  },
  "language_info": {
   "codemirror_mode": {
    "name": "ipython",
    "version": 3
   },
   "file_extension": ".py",
   "mimetype": "text/x-python",
   "name": "python",
   "nbconvert_exporter": "python",
   "pygments_lexer": "ipython3",
   "version": "3.7.0"
  }
 },
 "nbformat": 4,
 "nbformat_minor": 2
}
