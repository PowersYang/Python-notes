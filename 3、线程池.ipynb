{
 "cells": [
  {
   "cell_type": "markdown",
   "metadata": {},
   "source": [
    "- 为什么要用线程池？"
   ]
  },
  {
   "cell_type": "code",
   "execution_count": 1,
   "metadata": {},
   "outputs": [
    {
     "name": "stdout",
     "output_type": "stream",
     "text": [
      "gget page 2 success\n",
      "gget page 3 success\n"
     ]
    },
    {
     "data": {
      "text/plain": [
       "(3, 2)"
      ]
     },
     "execution_count": 1,
     "metadata": {},
     "output_type": "execute_result"
    }
   ],
   "source": [
    "import time\n",
    "from concurrent.futures import ThreadPoolExecutor\n",
    "\n",
    "def get_html(times):\n",
    "    time.sleep(times)\n",
    "    print('gget page {} success'.format(times))\n",
    "    return times\n",
    "    \n",
    "executor = ThreadPoolExecutor(max_workers=2)\n",
    "# 通过submit函数提交要执行的函数到线程池\n",
    "# submit是非阻塞的，是会立马执行的\n",
    "task1 = executor.submit(get_html, (3))\n",
    "task2 = executor.submit(get_html, (2))\n",
    "\n",
    "# done()用于判定某个任务是否完成\n",
    "# time.sleep(3)\n",
    "# task1.done(), task2.done()\n",
    "\n",
    "# result()可以获取task的执行结果，而且是阻塞的\n",
    "task1.result(), task2.result()\n"
   ]
  },
  {
   "cell_type": "code",
   "execution_count": 7,
   "metadata": {},
   "outputs": [
    {
     "name": "stdout",
     "output_type": "stream",
     "text": [
      "get page 2 success\n",
      "get page 3 success\n",
      "get page 3 success\n",
      "get 3 page\n",
      "get page 4 success\n",
      "get page 2 success\n",
      "get 2 page\n",
      "get page 4 success\n",
      "get 4 page\n"
     ]
    }
   ],
   "source": [
    "import time\n",
    "from concurrent.futures import ThreadPoolExecutor, as_completed\n",
    "\n",
    "def get_html(times):\n",
    "    time.sleep(times)\n",
    "    print('get page {} success'.format(times))\n",
    "    return times\n",
    "    \n",
    "executor = ThreadPoolExecutor(max_workers=2)\n",
    "\n",
    "urls = [3,2,4]\n",
    "all_task = [executor.submit(get_html, (url)) for url in urls]\n",
    "\n",
    "# 1、\n",
    "# as_completed是一个生成器，会将已经完成的future（task）给yield\n",
    "#     for future in as_completed(all_task):\n",
    "#         data = future.result()\n",
    "#         print('get {} page success'.format(data))\n",
    "\n",
    "# 2、\n",
    "# 通过executor获取已经完成的task\n",
    "# map()返回的顺序和urls的顺序是一致的\n",
    "for data in executor.map(get_html, urls):\n",
    "    print('get {} page'.format(data))"
   ]
  }
 ],
 "metadata": {
  "kernelspec": {
   "display_name": "Python 3",
   "language": "python",
   "name": "python3"
  },
  "language_info": {
   "codemirror_mode": {
    "name": "ipython",
    "version": 3
   },
   "file_extension": ".py",
   "mimetype": "text/x-python",
   "name": "python",
   "nbconvert_exporter": "python",
   "pygments_lexer": "ipython3",
   "version": "3.7.0"
  }
 },
 "nbformat": 4,
 "nbformat_minor": 2
}
